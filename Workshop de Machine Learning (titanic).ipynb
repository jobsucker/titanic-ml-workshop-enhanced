
{
 "cells": [
  {
   "cell_type": "markdown",
   "metadata": {},
   "source": [
    "## 1. Instalação das principais bibliotecas que iremos utilizar"
   ]