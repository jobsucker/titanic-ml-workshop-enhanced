
{
 "cells": [
  {
   "cell_type": "markdown",
   "metadata": {},
   "source": [
    "## 1. Instalação das principais bibliotecas que iremos utilizar"
   ]
  },
  {
   "cell_type": "code",
   "execution_count": 15,
   "metadata": {},
   "outputs": [],
   "source": [
    "%matplotlib inline\n",
    "import numpy as np\n",
    "import pandas as pd\n",
    "import re as re\n",
    "\n",
    "from matplotlib import pyplot as plt\n",
    "\n",
    "# blibliotecas para plotarmos os dados\n",
    "import seaborn as sns\n",
    "sns.set_style(\"whitegrid\")"
   ]
  },
  {
   "cell_type": "markdown",
   "metadata": {},
   "source": [
    "## 2. Leitura e entendimento dos datasets do titanic"
   ]
  },
  {
   "cell_type": "code",
   "execution_count": 16,
   "metadata": {},
   "outputs": [],
   "source": [
    "# leitura dos datasets do titanic\n",
    "# train = leitura do conjunto de dados de treinamento\n",
    "# test = leitura do conjunto de dados de teste\n",
    "# submission = vamos utilizar no final da análise\n",
    "train = pd.read_csv('train.csv', header = 0, dtype={'Age': np.float64})\n",
    "test  = pd.read_csv('test.csv' , header = 0, dtype={'Age': np.float64})\n",
    "submission = pd.read_csv('test.csv' , header = 0, dtype={'Age': np.float64})\n",