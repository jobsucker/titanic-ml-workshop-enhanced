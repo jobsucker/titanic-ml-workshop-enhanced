
{
 "cells": [
  {
   "cell_type": "markdown",
   "metadata": {},
   "source": [
    "## 1. Instalação das principais bibliotecas que iremos utilizar"
   ]
  },
  {
   "cell_type": "code",
   "execution_count": 15,
   "metadata": {},
   "outputs": [],
   "source": [
    "%matplotlib inline\n",
    "import numpy as np\n",
    "import pandas as pd\n",
    "import re as re\n",
    "\n",
    "from matplotlib import pyplot as plt\n",
    "\n",
    "# blibliotecas para plotarmos os dados\n",
    "import seaborn as sns\n",
    "sns.set_style(\"whitegrid\")"
   ]
  },
  {
   "cell_type": "markdown",
   "metadata": {},
   "source": [
    "## 2. Leitura e entendimento dos datasets do titanic"
   ]
  },
  {
   "cell_type": "code",
   "execution_count": 16,
   "metadata": {},
   "outputs": [],
   "source": [
    "# leitura dos datasets do titanic\n",
    "# train = leitura do conjunto de dados de treinamento\n",
    "# test = leitura do conjunto de dados de teste\n",
    "# submission = vamos utilizar no final da análise\n",
    "train = pd.read_csv('train.csv', header = 0, dtype={'Age': np.float64})\n",
    "test  = pd.read_csv('test.csv' , header = 0, dtype={'Age': np.float64})\n",
    "submission = pd.read_csv('test.csv' , header = 0, dtype={'Age': np.float64})\n",
    "\n",
    "# full_data é uma estrutura que armazena os nossos 2 datasets, isso irá facilitar nosso trabalho mais para frente\n",
    "full_data = [train, test]"
   ]
  },
  {
   "cell_type": "code",
   "execution_count": 17,
   "metadata": {},
   "outputs": [
    {
     "data": {
      "text/html": [
       "<div>\n",
       "<style scoped>\n",
       "    .dataframe tbody tr th:only-of-type {\n",
       "        vertical-align: middle;\n",
       "    }\n",
       "\n",
       "    .dataframe tbody tr th {\n",
       "        vertical-align: top;\n",
       "    }\n",
       "\n",
       "    .dataframe thead th {\n",
       "        text-align: right;\n",
       "    }\n",
       "</style>\n",
       "<table border=\"1\" class=\"dataframe\">\n",
       "  <thead>\n",
       "    <tr style=\"text-align: right;\">\n",
       "      <th></th>\n",
       "      <th>PassengerId</th>\n",
       "      <th>Survived</th>\n",
       "      <th>Pclass</th>\n",
       "      <th>Name</th>\n",
       "      <th>Sex</th>\n",
       "      <th>Age</th>\n",
       "      <th>SibSp</th>\n",
       "      <th>Parch</th>\n",
       "      <th>Ticket</th>\n",
       "      <th>Fare</th>\n",
       "      <th>Cabin</th>\n",
       "      <th>Embarked</th>\n",
       "    </tr>\n",
       "  </thead>\n",
       "  <tbody>\n",
       "    <tr>\n",
       "      <th>0</th>\n",
       "      <td>1</td>\n",
       "      <td>0</td>\n",
       "      <td>3</td>\n",
       "      <td>Braund, Mr. Owen Harris</td>\n",
       "      <td>male</td>\n",
       "      <td>22.0</td>\n",
       "      <td>1</td>\n",
       "      <td>0</td>\n",
       "      <td>A/5 21171</td>\n",
       "      <td>7.2500</td>\n",
       "      <td>NaN</td>\n",
       "      <td>S</td>\n",
       "    </tr>\n",
       "    <tr>\n",
       "      <th>1</th>\n",
       "      <td>2</td>\n",
       "      <td>1</td>\n",
       "      <td>1</td>\n",
       "      <td>Cumings, Mrs. John Bradley (Florence Briggs Th...</td>\n",
       "      <td>female</td>\n",
       "      <td>38.0</td>\n",
       "      <td>1</td>\n",
       "      <td>0</td>\n",
       "      <td>PC 17599</td>\n",
       "      <td>71.2833</td>\n",
       "      <td>C85</td>\n",
       "      <td>C</td>\n",
       "    </tr>\n",
       "    <tr>\n",
       "      <th>2</th>\n",
       "      <td>3</td>\n",
       "      <td>1</td>\n",
       "      <td>3</td>\n",
       "      <td>Heikkinen, Miss. Laina</td>\n",
       "      <td>female</td>\n",
       "      <td>26.0</td>\n",
       "      <td>0</td>\n",
       "      <td>0</td>\n",
       "      <td>STON/O2. 3101282</td>\n",
       "      <td>7.9250</td>\n",
       "      <td>NaN</td>\n",
       "      <td>S</td>\n",
       "    </tr>\n",
       "    <tr>\n",
       "      <th>3</th>\n",
       "      <td>4</td>\n",
       "      <td>1</td>\n",
       "      <td>1</td>\n",
       "      <td>Futrelle, Mrs. Jacques Heath (Lily May Peel)</td>\n",
       "      <td>female</td>\n",
       "      <td>35.0</td>\n",
       "      <td>1</td>\n",
       "      <td>0</td>\n",
       "      <td>113803</td>\n",
       "      <td>53.1000</td>\n",
       "      <td>C123</td>\n",
       "      <td>S</td>\n",
       "    </tr>\n",
       "    <tr>\n",
       "      <th>4</th>\n",
       "      <td>5</td>\n",
       "      <td>0</td>\n",
       "      <td>3</td>\n",
       "      <td>Allen, Mr. William Henry</td>\n",
       "      <td>male</td>\n",
       "      <td>35.0</td>\n",
       "      <td>0</td>\n",
       "      <td>0</td>\n",
       "      <td>373450</td>\n",
       "      <td>8.0500</td>\n",
       "      <td>NaN</td>\n",
       "      <td>S</td>\n",
       "    </tr>\n",
       "  </tbody>\n",
       "</table>\n",
       "</div>"
      ],
      "text/plain": [
       "   PassengerId  Survived  Pclass  \\\n",
       "0            1         0       3   \n",
       "1            2         1       1   \n",
       "2            3         1       3   \n",
       "3            4         1       1   \n",
       "4            5         0       3   \n",
       "\n",
       "                                                Name     Sex   Age  SibSp  \\\n",
       "0                            Braund, Mr. Owen Harris    male  22.0      1   \n",
       "1  Cumings, Mrs. John Bradley (Florence Briggs Th...  female  38.0      1   \n",
       "2                             Heikkinen, Miss. Laina  female  26.0      0   \n",
       "3       Futrelle, Mrs. Jacques Heath (Lily May Peel)  female  35.0      1   \n",
       "4                           Allen, Mr. William Henry    male  35.0      0   \n",
       "\n",
       "   Parch            Ticket     Fare Cabin Embarked  \n",
       "0      0         A/5 21171   7.2500   NaN        S  \n",
       "1      0          PC 17599  71.2833   C85        C  \n",
       "2      0  STON/O2. 3101282   7.9250   NaN        S  \n",
       "3      0            113803  53.1000  C123        S  \n",
       "4      0            373450   8.0500   NaN        S  "
      ]
     },
     "execution_count": 17,
     "metadata": {},
     "output_type": "execute_result"
    }
   ],
   "source": [
    "#vamos dar uma olhada nos dados de treinamento\n",
    "train.head()"
   ]
  },
  {
   "cell_type": "code",
   "execution_count": 18,
   "metadata": {},
   "outputs": [
    {
     "data": {
      "text/html": [
       "<div>\n",
       "<style scoped>\n",
       "    .dataframe tbody tr th:only-of-type {\n",
       "        vertical-align: middle;\n",
       "    }\n",
       "\n",
       "    .dataframe tbody tr th {\n",
       "        vertical-align: top;\n",
       "    }\n",
       "\n",
       "    .dataframe thead th {\n",
       "        text-align: right;\n",
       "    }\n",
       "</style>\n",
       "<table border=\"1\" class=\"dataframe\">\n",
       "  <thead>\n",
       "    <tr style=\"text-align: right;\">\n",
       "      <th></th>\n",
       "      <th>PassengerId</th>\n",
       "      <th>Pclass</th>\n",
       "      <th>Name</th>\n",
       "      <th>Sex</th>\n",
       "      <th>Age</th>\n",
       "      <th>SibSp</th>\n",
       "      <th>Parch</th>\n",
       "      <th>Ticket</th>\n",
       "      <th>Fare</th>\n",
       "      <th>Cabin</th>\n",
       "      <th>Embarked</th>\n",
       "    </tr>\n",
       "  </thead>\n",
       "  <tbody>\n",
       "    <tr>\n",
       "      <th>0</th>\n",
       "      <td>892</td>\n",
       "      <td>3</td>\n",
       "      <td>Kelly, Mr. James</td>\n",
       "      <td>male</td>\n",
       "      <td>34.5</td>\n",
       "      <td>0</td>\n",
       "      <td>0</td>\n",
       "      <td>330911</td>\n",
       "      <td>7.8292</td>\n",
       "      <td>NaN</td>\n",
       "      <td>Q</td>\n",
       "    </tr>\n",
       "    <tr>\n",
       "      <th>1</th>\n",
       "      <td>893</td>\n",
       "      <td>3</td>\n",
       "      <td>Wilkes, Mrs. James (Ellen Needs)</td>\n",
       "      <td>female</td>\n",
       "      <td>47.0</td>\n",
       "      <td>1</td>\n",
       "      <td>0</td>\n",
       "      <td>363272</td>\n",
       "      <td>7.0000</td>\n",
       "      <td>NaN</td>\n",
       "      <td>S</td>\n",
       "    </tr>\n",
       "    <tr>\n",
       "      <th>2</th>\n",
       "      <td>894</td>\n",
       "      <td>2</td>\n",
       "      <td>Myles, Mr. Thomas Francis</td>\n",
       "      <td>male</td>\n",
       "      <td>62.0</td>\n",
       "      <td>0</td>\n",
       "      <td>0</td>\n",
       "      <td>240276</td>\n",
       "      <td>9.6875</td>\n",
       "      <td>NaN</td>\n",
       "      <td>Q</td>\n",
       "    </tr>\n",
       "    <tr>\n",
       "      <th>3</th>\n",
       "      <td>895</td>\n",
       "      <td>3</td>\n",
       "      <td>Wirz, Mr. Albert</td>\n",
       "      <td>male</td>\n",
       "      <td>27.0</td>\n",
       "      <td>0</td>\n",
       "      <td>0</td>\n",
       "      <td>315154</td>\n",
       "      <td>8.6625</td>\n",
       "      <td>NaN</td>\n",
       "      <td>S</td>\n",
       "    </tr>\n",
       "    <tr>\n",
       "      <th>4</th>\n",
       "      <td>896</td>\n",
       "      <td>3</td>\n",
       "      <td>Hirvonen, Mrs. Alexander (Helga E Lindqvist)</td>\n",
       "      <td>female</td>\n",
       "      <td>22.0</td>\n",
       "      <td>1</td>\n",
       "      <td>1</td>\n",
       "      <td>3101298</td>\n",
       "      <td>12.2875</td>\n",
       "      <td>NaN</td>\n",
       "      <td>S</td>\n",
       "    </tr>\n",
       "  </tbody>\n",
       "</table>\n",
       "</div>"
      ],
      "text/plain": [
       "   PassengerId  Pclass                                          Name     Sex  \\\n",
       "0          892       3                              Kelly, Mr. James    male   \n",
       "1          893       3              Wilkes, Mrs. James (Ellen Needs)  female   \n",
       "2          894       2                     Myles, Mr. Thomas Francis    male   \n",
       "3          895       3                              Wirz, Mr. Albert    male   \n",
       "4          896       3  Hirvonen, Mrs. Alexander (Helga E Lindqvist)  female   \n",
       "\n",
       "    Age  SibSp  Parch   Ticket     Fare Cabin Embarked  \n",
       "0  34.5      0      0   330911   7.8292   NaN        Q  \n",
       "1  47.0      1      0   363272   7.0000   NaN        S  \n",
       "2  62.0      0      0   240276   9.6875   NaN        Q  \n",
       "3  27.0      0      0   315154   8.6625   NaN        S  \n",
       "4  22.0      1      1  3101298  12.2875   NaN        S  "
      ]
     },
     "execution_count": 18,
     "metadata": {},
     "output_type": "execute_result"
    }
   ],
   "source": [
    "#vamos dar uma olhada nos dados de teste\n",
    "test.head()"
   ]
  },
  {
   "cell_type": "markdown",
   "metadata": {},
   "source": [
    "## 3. Conhecendo das variaveís do dataset"
   ]
  },
  {
   "cell_type": "code",
   "execution_count": 19,
   "metadata": {},
   "outputs": [
    {
     "name": "stdout",
     "output_type": "stream",
     "text": [
      "<class 'pandas.core.frame.DataFrame'>\n",
      "RangeIndex: 891 entries, 0 to 890\n",
      "Data columns (total 12 columns):\n",
      "PassengerId    891 non-null int64\n",
      "Survived       891 non-null int64\n",
      "Pclass         891 non-null int64\n",
      "Name           891 non-null object\n",
      "Sex            891 non-null object\n",
      "Age            714 non-null float64\n",
      "SibSp          891 non-null int64\n",
      "Parch          891 non-null int64\n",
      "Ticket         891 non-null object\n",
      "Fare           891 non-null float64\n",
      "Cabin          204 non-null object\n",
      "Embarked       889 non-null object\n",
      "dtypes: float64(2), int64(5), object(5)\n",
      "memory usage: 83.6+ KB\n",
      "None\n"
     ]
    }
   ],
   "source": [
    "# vamos verificar os dados (colunas do nosso dataset)\n",
    "print (train.info())"
   ]
  },
  {
   "cell_type": "markdown",
   "metadata": {},
   "source": [
    "Das informações acima, podemos ver que algumas colunas estão incompletas (faltando dados) e teremos que tratar isso de alguma maneira.\n",
    "\n",
    "Iremos passar por cada variável do dataset para entendê-la e, se necessário, tratar os dados nulos."
   ]
  },
  {
   "cell_type": "markdown",
   "metadata": {},
   "source": [
    "### 3.1 Pclass - classe de viagem do passageiro"
   ]
  },
  {
   "cell_type": "markdown",
   "metadata": {},
   "source": [
    "Podemos observar se a classe de viagem do passageiro tem influência na taxa de sobrevivência."
   ]
  },
  {
   "cell_type": "code",
   "execution_count": 20,
   "metadata": {},
   "outputs": [
    {
     "name": "stdout",
     "output_type": "stream",
     "text": [
      "   Pclass  Survived\n",
      "0       1  0.629630\n",
      "1       2  0.472826\n",
      "2       3  0.242363\n"
     ]
    }
   ],
   "source": [
    "print (train[['Pclass', 'Survived']].groupby(['Pclass'], as_index=False).mean())"
   ]
  },
  {
   "cell_type": "markdown",
   "metadata": {},
   "source": [
    "### 3.2 Sexo do passageiro\n",
    "Distribuição de sobreviventes de acordo com o sexo"
   ]
  },
  {
   "cell_type": "code",
   "execution_count": 21,
   "metadata": {},
   "outputs": [
    {
     "data": {
      "image/png": "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\n",
      "text/plain": [
       "<Figure size 432x288 with 1 Axes>"
      ]
     },
     "metadata": {},
     "output_type": "display_data"
    },
    {
     "name": "stdout",
     "output_type": "stream",
     "text": [
      "Total de sobreviventes: 342\n",
      "      Sex  Survived\n",
      "0  female  0.742038\n",
      "1    male  0.188908\n"
     ]
    }
   ],
   "source": [
    "# utilizando o conjunto de Treinamento vamos observar os dados\n",
    "p = sns.countplot(data=train, x = 'Survived', hue = 'Sex')\n",
    "plt.title(\"Distribuição de sobreviventes de acordo com o sexo\")\n",
    "plt.show()\n",
    "\n",
    "# variáveis para exibir\n",
    "total_survived_females = train[train.Sex == \"female\"][\"Survived\"].sum()\n",
    "total_survived_males = train[train.Sex == \"male\"][\"Survived\"].sum()\n",
    "\n",
    "print(\"Total de sobreviventes: \" + str((total_survived_females + total_survived_males)))\n",
    "print (train[[\"Sex\", \"Survived\"]].groupby(['Sex'], as_index=False).mean())"
   ]
  },
  {
   "cell_type": "markdown",
   "metadata": {},
   "source": [
    "### 3.3 SibSp and Parch - tamanho da família\n"
   ]
  },
  {
   "cell_type": "code",
   "execution_count": 22,
   "metadata": {},
   "outputs": [
    {
     "name": "stdout",
     "output_type": "stream",
     "text": [
      "   FamilySize  Survived\n",
      "0           1  0.303538\n",
      "1           2  0.552795\n",
      "2           3  0.578431\n",
      "3           4  0.724138\n",
      "4           5  0.200000\n",
      "5           6  0.136364\n",
      "6           7  0.333333\n",
      "7           8  0.000000\n",
      "8          11  0.000000\n"
     ]
    }
   ],
   "source": [
    "# Mas e o tamanho da família, seria importante?\n",
    "# podemos criar uma nova variável chamada FamilySize de acordo com \n",
    "# número de irmãos por conjuge e numero de pais por filhos abordo\n",
    "\n",
    "# criamos uma nova variável para cada dataset em full_data chamada FamilySize\n",
    "for dataset in full_data:\n",
    "    dataset['FamilySize'] = dataset['SibSp'] + dataset['Parch'] + 1\n",
    "\n",
    "# informações obtidas do conjunto de treinamento\n",
    "print (train[['FamilySize', 'Survived']].groupby(['FamilySize'], as_index=False).mean())"
   ]
  },
  {
   "cell_type": "markdown",
   "metadata": {},
   "source": [
    "Se olharmos novamento os dados dos **dataset de treinamento e de teste**, podemos ver que uma nova coluna foi adicionada: **FamilySize**."
   ]
  },
  {
   "cell_type": "code",
   "execution_count": 23,
   "metadata": {},
   "outputs": [
    {
     "data": {
      "text/html": [
       "<div>\n",
       "<style scoped>\n",
       "    .dataframe tbody tr th:only-of-type {\n",
       "        vertical-align: middle;\n",
       "    }\n",
       "\n",
       "    .dataframe tbody tr th {\n",
       "        vertical-align: top;\n",
       "    }\n",
       "\n",
       "    .dataframe thead th {\n",
       "        text-align: right;\n",
       "    }\n",
       "</style>\n",
       "<table border=\"1\" class=\"dataframe\">\n",
       "  <thead>\n",
       "    <tr style=\"text-align: right;\">\n",
       "      <th></th>\n",
       "      <th>PassengerId</th>\n",
       "      <th>Survived</th>\n",
       "      <th>Pclass</th>\n",
       "      <th>Name</th>\n",
       "      <th>Sex</th>\n",
       "      <th>Age</th>\n",
       "      <th>SibSp</th>\n",
       "      <th>Parch</th>\n",
       "      <th>Ticket</th>\n",
       "      <th>Fare</th>\n",
       "      <th>Cabin</th>\n",
       "      <th>Embarked</th>\n",
       "      <th>FamilySize</th>\n",
       "    </tr>\n",
       "  </thead>\n",
       "  <tbody>\n",
       "    <tr>\n",
       "      <th>0</th>\n",
       "      <td>1</td>\n",
       "      <td>0</td>\n",
       "      <td>3</td>\n",
       "      <td>Braund, Mr. Owen Harris</td>\n",
       "      <td>male</td>\n",
       "      <td>22.0</td>\n",
       "      <td>1</td>\n",
       "      <td>0</td>\n",
       "      <td>A/5 21171</td>\n",
       "      <td>7.2500</td>\n",
       "      <td>NaN</td>\n",
       "      <td>S</td>\n",
       "      <td>2</td>\n",
       "    </tr>\n",
       "    <tr>\n",
       "      <th>1</th>\n",
       "      <td>2</td>\n",
       "      <td>1</td>\n",
       "      <td>1</td>\n",
       "      <td>Cumings, Mrs. John Bradley (Florence Briggs Th...</td>\n",
       "      <td>female</td>\n",
       "      <td>38.0</td>\n",
       "      <td>1</td>\n",
       "      <td>0</td>\n",
       "      <td>PC 17599</td>\n",
       "      <td>71.2833</td>\n",
       "      <td>C85</td>\n",
       "      <td>C</td>\n",
       "      <td>2</td>\n",
       "    </tr>\n",
       "    <tr>\n",
       "      <th>2</th>\n",
       "      <td>3</td>\n",
       "      <td>1</td>\n",
       "      <td>3</td>\n",
       "      <td>Heikkinen, Miss. Laina</td>\n",
       "      <td>female</td>\n",
       "      <td>26.0</td>\n",
       "      <td>0</td>\n",
       "      <td>0</td>\n",
       "      <td>STON/O2. 3101282</td>\n",
       "      <td>7.9250</td>\n",
       "      <td>NaN</td>\n",
       "      <td>S</td>\n",
       "      <td>1</td>\n",
       "    </tr>\n",
       "    <tr>\n",
       "      <th>3</th>\n",
       "      <td>4</td>\n",
       "      <td>1</td>\n",
       "      <td>1</td>\n",
       "      <td>Futrelle, Mrs. Jacques Heath (Lily May Peel)</td>\n",
       "      <td>female</td>\n",
       "      <td>35.0</td>\n",
       "      <td>1</td>\n",
       "      <td>0</td>\n",
       "      <td>113803</td>\n",
       "      <td>53.1000</td>\n",
       "      <td>C123</td>\n",
       "      <td>S</td>\n",
       "      <td>2</td>\n",
       "    </tr>\n",
       "    <tr>\n",
       "      <th>4</th>\n",
       "      <td>5</td>\n",
       "      <td>0</td>\n",
       "      <td>3</td>\n",
       "      <td>Allen, Mr. William Henry</td>\n",
       "      <td>male</td>\n",
       "      <td>35.0</td>\n",
       "      <td>0</td>\n",
       "      <td>0</td>\n",
       "      <td>373450</td>\n",
       "      <td>8.0500</td>\n",
       "      <td>NaN</td>\n",
       "      <td>S</td>\n",
       "      <td>1</td>\n",
       "    </tr>\n",
       "  </tbody>\n",
       "</table>\n",
       "</div>"
      ],
      "text/plain": [
       "   PassengerId  Survived  Pclass  \\\n",
       "0            1         0       3   \n",
       "1            2         1       1   \n",
       "2            3         1       3   \n",
       "3            4         1       1   \n",
       "4            5         0       3   \n",
       "\n",
       "                                                Name     Sex   Age  SibSp  \\\n",
       "0                            Braund, Mr. Owen Harris    male  22.0      1   \n",
       "1  Cumings, Mrs. John Bradley (Florence Briggs Th...  female  38.0      1   \n",
       "2                             Heikkinen, Miss. Laina  female  26.0      0   \n",
       "3       Futrelle, Mrs. Jacques Heath (Lily May Peel)  female  35.0      1   \n",
       "4                           Allen, Mr. William Henry    male  35.0      0   \n",
       "\n",
       "   Parch            Ticket     Fare Cabin Embarked  FamilySize  \n",
       "0      0         A/5 21171   7.2500   NaN        S           2  \n",
       "1      0          PC 17599  71.2833   C85        C           2  \n",
       "2      0  STON/O2. 3101282   7.9250   NaN        S           1  \n",
       "3      0            113803  53.1000  C123        S           2  \n",
       "4      0            373450   8.0500   NaN        S           1  "
      ]
     },
     "execution_count": 23,
     "metadata": {},
     "output_type": "execute_result"
    }
   ],
   "source": [
    "# dataset 0 de full_data = dataset de treinamento (train)\n",
    "full_data[0].head()"
   ]
  },
  {
   "cell_type": "code",
   "execution_count": 24,
   "metadata": {},
   "outputs": [
    {
     "data": {
      "text/html": [
       "<div>\n",
       "<style scoped>\n",
       "    .dataframe tbody tr th:only-of-type {\n",
       "        vertical-align: middle;\n",
       "    }\n",
       "\n",
       "    .dataframe tbody tr th {\n",
       "        vertical-align: top;\n",
       "    }\n",
       "\n",
       "    .dataframe thead th {\n",
       "        text-align: right;\n",
       "    }\n",
       "</style>\n",
       "<table border=\"1\" class=\"dataframe\">\n",
       "  <thead>\n",
       "    <tr style=\"text-align: right;\">\n",
       "      <th></th>\n",
       "      <th>PassengerId</th>\n",
       "      <th>Pclass</th>\n",
       "      <th>Name</th>\n",
       "      <th>Sex</th>\n",
       "      <th>Age</th>\n",
       "      <th>SibSp</th>\n",
       "      <th>Parch</th>\n",
       "      <th>Ticket</th>\n",
       "      <th>Fare</th>\n",
       "      <th>Cabin</th>\n",
       "      <th>Embarked</th>\n",
       "      <th>FamilySize</th>\n",
       "    </tr>\n",
       "  </thead>\n",
       "  <tbody>\n",
       "    <tr>\n",
       "      <th>0</th>\n",
       "      <td>892</td>\n",
       "      <td>3</td>\n",
       "      <td>Kelly, Mr. James</td>\n",
       "      <td>male</td>\n",
       "      <td>34.5</td>\n",
       "      <td>0</td>\n",
       "      <td>0</td>\n",
       "      <td>330911</td>\n",
       "      <td>7.8292</td>\n",
       "      <td>NaN</td>\n",
       "      <td>Q</td>\n",
       "      <td>1</td>\n",
       "    </tr>\n",
       "    <tr>\n",
       "      <th>1</th>\n",
       "      <td>893</td>\n",
       "      <td>3</td>\n",
       "      <td>Wilkes, Mrs. James (Ellen Needs)</td>\n",
       "      <td>female</td>\n",
       "      <td>47.0</td>\n",
       "      <td>1</td>\n",
       "      <td>0</td>\n",
       "      <td>363272</td>\n",
       "      <td>7.0000</td>\n",
       "      <td>NaN</td>\n",
       "      <td>S</td>\n",
       "      <td>2</td>\n",
       "    </tr>\n",
       "    <tr>\n",
       "      <th>2</th>\n",
       "      <td>894</td>\n",
       "      <td>2</td>\n",
       "      <td>Myles, Mr. Thomas Francis</td>\n",
       "      <td>male</td>\n",
       "      <td>62.0</td>\n",
       "      <td>0</td>\n",
       "      <td>0</td>\n",
       "      <td>240276</td>\n",
       "      <td>9.6875</td>\n",
       "      <td>NaN</td>\n",
       "      <td>Q</td>\n",
       "      <td>1</td>\n",
       "    </tr>\n",
       "    <tr>\n",
       "      <th>3</th>\n",
       "      <td>895</td>\n",
       "      <td>3</td>\n",
       "      <td>Wirz, Mr. Albert</td>\n",
       "      <td>male</td>\n",
       "      <td>27.0</td>\n",
       "      <td>0</td>\n",
       "      <td>0</td>\n",
       "      <td>315154</td>\n",
       "      <td>8.6625</td>\n",
       "      <td>NaN</td>\n",
       "      <td>S</td>\n",
       "      <td>1</td>\n",
       "    </tr>\n",
       "    <tr>\n",
       "      <th>4</th>\n",
       "      <td>896</td>\n",
       "      <td>3</td>\n",
       "      <td>Hirvonen, Mrs. Alexander (Helga E Lindqvist)</td>\n",
       "      <td>female</td>\n",
       "      <td>22.0</td>\n",
       "      <td>1</td>\n",
       "      <td>1</td>\n",
       "      <td>3101298</td>\n",
       "      <td>12.2875</td>\n",
       "      <td>NaN</td>\n",
       "      <td>S</td>\n",
       "      <td>3</td>\n",
       "    </tr>\n",
       "  </tbody>\n",
       "</table>\n",
       "</div>"
      ],
      "text/plain": [
       "   PassengerId  Pclass                                          Name     Sex  \\\n",
       "0          892       3                              Kelly, Mr. James    male   \n",
       "1          893       3              Wilkes, Mrs. James (Ellen Needs)  female   \n",
       "2          894       2                     Myles, Mr. Thomas Francis    male   \n",
       "3          895       3                              Wirz, Mr. Albert    male   \n",
       "4          896       3  Hirvonen, Mrs. Alexander (Helga E Lindqvist)  female   \n",
       "\n",
       "    Age  SibSp  Parch   Ticket     Fare Cabin Embarked  FamilySize  \n",
       "0  34.5      0      0   330911   7.8292   NaN        Q           1  \n",
       "1  47.0      1      0   363272   7.0000   NaN        S           2  \n",
       "2  62.0      0      0   240276   9.6875   NaN        Q           1  \n",
       "3  27.0      0      0   315154   8.6625   NaN        S           1  \n",
       "4  22.0      1      1  3101298  12.2875   NaN        S           3  "
      ]
     },
     "execution_count": 24,
     "metadata": {},
     "output_type": "execute_result"
    }
   ],
   "source": [
    "# dataset 1 de full_data = dataset de teste (test)\n",
    "full_data[1].head()"
   ]
  },
  {
   "cell_type": "markdown",
   "metadata": {},
   "source": [
    "O tamanho da família parece ser uma variável influente na taxa de sobrevivência e, portanto, importante para a nossa predição. Mas, vamos mais longe e verificar pessoas que viajaram sozinhas."
   ]
  },
  {
   "cell_type": "code",
   "execution_count": 25,
   "metadata": {},
   "outputs": [
    {
     "name": "stdout",
     "output_type": "stream",
     "text": [
      "   IsAlone  Survived\n",
      "0        0  0.505650\n",
      "1        1  0.303538\n"
     ]
    }
   ],
   "source": [
    "# criamos uma nova variável dentro de cada dataset (train e test) chamada IsAlone, assim como fizemos com FamilySize\n",
    "for dataset in full_data:\n",
    "    dataset['IsAlone'] = 0\n",
    "    dataset.loc[dataset['FamilySize'] == 1, 'IsAlone'] = 1\n",
    "    \n",
    "# informações obtidas do conjunto de treinamento\n",
    "print (train[['IsAlone', 'Survived']].groupby(['IsAlone'], as_index=False).mean())"
   ]
  },
  {
   "cell_type": "markdown",
   "metadata": {},
   "source": [
    "Bem, agora podemos considerar que a o fato de a pessoa estar sozinha ou não tem um impacto considerável."
   ]
  },
  {
   "cell_type": "markdown",
   "metadata": {},
   "source": [
    "### 3.4 Embarked\n",
    "Essa variável possui alguns valores nulos. Vamos tentar preencher os valores nulos com o valor que mais ocorre: S."
   ]
  },
  {
   "cell_type": "code",
   "execution_count": 26,
   "metadata": {},
   "outputs": [
    {
     "name": "stdout",
     "output_type": "stream",
     "text": [
      "  Embarked  Survived\n",
      "0        C  0.553571\n",
      "1        Q  0.389610\n",
      "2        S  0.339009\n"
     ]
    }
   ],
   "source": [
    "# dentro de cada dataset (train e teste) corrigimos os valores\n",
    "for dataset in full_data:\n",
    "    dataset['Embarked'] = dataset['Embarked'].fillna('S')\n",
    "    \n",
    "print (train[['Embarked', 'Survived']].groupby(['Embarked'], as_index=False).mean())"
   ]
  },
  {
   "cell_type": "markdown",
   "metadata": {},
   "source": [
    "### 3.5 Fare \n",
    "Essa variável possui alguns valores nulos. Vamos tentar preencher os valores nulos com a **mediana** da tarifa.\n",
    "\n",
    "Analisamos a tarifa em nosso conjunto de treinamento (dividida em 4 categoria diferentes)"
   ]
  },
  {
   "cell_type": "code",
   "execution_count": 27,
   "metadata": {},
   "outputs": [
    {
     "name": "stdout",
     "output_type": "stream",
     "text": [
      "Mediana:  14.4542\n"
     ]
    }
   ],
   "source": [
    "# Mediana da tarifa\n",
    "mediana = train['Fare'].median()\n",
    "print(\"Mediana: \", mediana)"
   ]
  },
  {
   "cell_type": "code",
   "execution_count": 28,
   "metadata": {},
   "outputs": [
    {
     "name": "stdout",
     "output_type": "stream",
     "text": [
      "Media:  32.2042079685746\n"
     ]
    }
   ],
   "source": [
    "# Mediana da tarifa\n",
    "media = train['Fare'].mean()\n",
    "print(\"Media: \", media)"
   ]
  },
  {
   "cell_type": "code",
   "execution_count": 29,
   "metadata": {},
   "outputs": [
    {
     "name": "stdout",
     "output_type": "stream",
     "text": [
      "   CategoricalFare  Survived\n",
      "0   (-0.001, 7.91]  0.197309\n",
      "1   (7.91, 14.454]  0.303571\n",
      "2   (14.454, 31.0]  0.454955\n",
      "3  (31.0, 512.329]  0.581081\n"
     ]
    }
   ],
   "source": [
    "# dentro de cada dataset (train e teste) dividimos a tarifa paga em 4 categorias diferentes\n",
    "for dataset in full_data:\n",
    "    dataset['Fare'] = dataset['Fare'].fillna(train['Fare'].median()) #substituimos os nulos pela mediana\n",
    "    \n",
    "train['CategoricalFare'] = pd.qcut(train['Fare'], 4)\n",
    "\n",
    "print (train[['CategoricalFare', 'Survived']].groupby(['CategoricalFare'], as_index=False).mean())"
   ]
  },
  {
   "cell_type": "markdown",
   "metadata": {},
   "source": [
    "### 3.6 Age \n",
    "Essa variável possui alguns valores nulos também. Existem diversar formas de tratar valores nulos em um dataset.\n",
    "* substituir os valores nulos pela **média da variável**\n",
    "* substituir os valores nulos de forma aleatória dentro de um intervalo **[média - desvio, média + desvio]**"
   ]
  },
  {
   "cell_type": "code",
   "execution_count": 30,
   "metadata": {},
   "outputs": [
    {
     "name": "stdout",
     "output_type": "stream",
     "text": [
      "Média da idade: 29.69911764705882\n",
      "Desvio padrão da idade: 14.526497332334044\n"
     ]
    }
   ],
   "source": [
    "# observando a média de idade no conjunto de Treinamento\n",
    "media = train['Age'].mean()\n",
    "desvio = train['Age'].std()\n",
    "print(\"Média da idade:\",media)\n",
    "print(\"Desvio padrão da idade:\",desvio)"
   ]
  },
  {
   "cell_type": "code",
   "execution_count": 31,
   "metadata": {},
   "outputs": [
    {
     "name": "stdout",
     "output_type": "stream",
     "text": [
      "  CategoricalAge  Survived\n",
      "0  (-0.08, 16.0]  0.513761\n",
      "1   (16.0, 32.0]  0.349451\n",
      "2   (32.0, 48.0]  0.388664\n",
      "3   (48.0, 64.0]  0.434783\n",
      "4   (64.0, 80.0]  0.090909\n"
     ]
    },
    {
     "name": "stderr",
     "output_type": "stream",
     "text": [
      "C:\\Users\\carla\\Anaconda3\\lib\\site-packages\\ipykernel_launcher.py:8: SettingWithCopyWarning: \n",
      "A value is trying to be set on a copy of a slice from a DataFrame\n",
      "\n",
      "See the caveats in the documentation: http://pandas.pydata.org/pandas-docs/stable/indexing.html#indexing-view-versus-copy\n",
      "  \n"
     ]
    }
   ],
   "source": [
    "# dentro de cada dataset (train e teste) corrigimos o campo Age (idade)\n",
    "for dataset in full_data:\n",
    "    age_avg = dataset['Age'].mean() #retorna a média da idade\n",
    "    age_std = dataset['Age'].std()  # retorna o desvio padrão\n",
    "    age_null_count = dataset['Age'].isnull().sum() #conta a quantidade de campos nulos\n",
    "    \n",
    "    age_null_random_list = np.random.randint(age_avg - age_std, age_avg + age_std, size=age_null_count)\n",
    "    dataset['Age'][np.isnan(dataset['Age'])] = age_null_random_list\n",
    "    dataset['Age'] = dataset['Age'].astype(int)\n",
    "        \n",
    "train['CategoricalAge'] = pd.cut(train['Age'], 5)\n",
    "print (train[['CategoricalAge', 'Survived']].groupby(['CategoricalAge'], as_index=False).mean())"
   ]
  },
  {
   "cell_type": "markdown",
   "metadata": {},
   "source": [
    "### 3.7 Name \n",
    "Nessa variável, conseguimos ver o título da pessoa"
   ]
  },
  {
   "cell_type": "code",
   "execution_count": 32,
   "metadata": {},
   "outputs": [],
   "source": [
    "# definimos uma função chamada get_title que extrai do nome da pessoa o titulo\n",
    "def get_title(name):\n",
    "\ttitle_search = re.search(' ([A-Za-z]+)\\.', name)\n",
    "\t# Se o título existir, procure por ele\n",
    "\tif title_search:\n",
    "\t\treturn title_search.group(1)\n",
    "\treturn \"\""
   ]
  },
  {
   "cell_type": "code",
   "execution_count": 33,
   "metadata": {},
   "outputs": [],
   "source": [
    "# dentro de cada dataset (train e teste) criamos uma nova coluna chamada Title\n",
    "for dataset in full_data:\n",
    "    dataset['Title'] = dataset['Name'].apply(get_title)"
   ]
  },
  {
   "cell_type": "code",
   "execution_count": 34,
   "metadata": {},
   "outputs": [
    {
     "name": "stdout",
     "output_type": "stream",
     "text": [
      "Sex       female  male\n",
      "Title                 \n",
      "Capt           0     1\n",
      "Col            0     2\n",
      "Countess       1     0\n",
      "Don            0     1\n",
      "Dr             1     6\n",
      "Jonkheer       0     1\n",
      "Lady           1     0\n",
      "Major          0     2\n",
      "Master         0    40\n",
      "Miss         182     0\n",
      "Mlle           2     0\n",
      "Mme            1     0\n",
      "Mr             0   517\n",
      "Mrs          125     0\n",
      "Ms             1     0\n",
      "Rev            0     6\n",
      "Sir            0     1\n"
     ]
    }
   ],
   "source": [
    "print(pd.crosstab(train['Title'], train['Sex']))"
   ]
  },
  {
   "cell_type": "markdown",
   "metadata": {},
   "source": [
    "Agora temos os títulos e sua frequência no nosso dataset. Vamos categorizá-los e verificar seu impacto na taxa de sobrevivência."
   ]
  },
  {
   "cell_type": "code",
   "execution_count": 40,
   "metadata": {},
   "outputs": [],
   "source": [
    "# dentro de cada dataset (train e teste) categorizamos a coluna Title\n",
    "for dataset in full_data:\n",
    "    dataset['Title'] = dataset['Title'].replace(['Lady', 'Countess','Capt', 'Col',\\\n",
    " \t'Don', 'Dr', 'Major', 'Rev', 'Sir', 'Jonkheer', 'Dona'], 'Rare')\n",
    "    dataset['Title'] = dataset['Title'].replace('Mlle', 'Miss')\n",
    "    dataset['Title'] = dataset['Title'].replace('Ms', 'Miss')\n",
    "    dataset['Title'] = dataset['Title'].replace('Mme', 'Mrs')"
   ]
  },
  {
   "cell_type": "markdown",
   "metadata": {},
   "source": [
    "Abaixo, conseguimos ver a taxa de sobrevivência de acordo com a coluna ```title``` que acabamos de criar."
   ]
  },
  {
   "cell_type": "code",
   "execution_count": 41,
   "metadata": {},
   "outputs": [
    {
     "name": "stdout",
     "output_type": "stream",
     "text": [
      "    Title  Survived\n",
      "0  Master  0.575000\n",
      "1    Miss  0.702703\n",
      "2      Mr  0.156673\n",
      "3     Mrs  0.793651\n",
      "4    Rare  0.347826\n"
     ]
    }
   ],
   "source": [
    "print (train[['Title', 'Survived']].groupby(['Title'], as_index=False).mean())"
   ]
  },
  {
   "cell_type": "markdown",
   "metadata": {},
   "source": [
    "## Limpeza dos dados\n",
    "Legal, já conhecemos todas as variáveis do nosso dataset.\n",
    "\n",
    "Agora, vamos limpar nossos dados e transformá-los em valores numéricos. "
   ]
  },
  {
   "cell_type": "code",
   "execution_count": 42,
   "metadata": {},
   "outputs": [
    {
     "name": "stdout",
     "output_type": "stream",
     "text": [
      "   Survived  Pclass  Sex  Age  Fare  Embarked  IsAlone  Title\n",
      "0         0       3    1    1     0         0        0      1\n",
      "1         1       1    0    2     3         1        0      3\n",
      "2         1       3    0    1     1         0        1      2\n",
      "3         1       1    0    2     3         0        0      3\n",
      "4         0       3    1    2     1         0        1      1\n",
      "5         0       3    1    1     1         2        1      1\n",
      "6         0       1    1    3     3         0        1      1\n",
      "7         0       3    1    0     2         0        0      4\n",
      "8         1       3    0    1     1         0        0      3\n",
      "9         1       2    0    0     2         1        0      3\n"
     ]
    }
   ],
   "source": [
    "# dentro de cada dataset (train e teste) transformamos nossas variáveis em valores numéricos\n",
    "for dataset in full_data:\n",
    "    # Mapping Sex\n",
    "    dataset['Sex'] = dataset['Sex'].map( {'female': 0, 'male': 1} ).astype(int)\n",
    "    \n",
    "    # Mapping titles\n",
    "    title_mapping = {\"Mr\": 1, \"Miss\": 2, \"Mrs\": 3, \"Master\": 4, \"Rare\": 5}\n",
    "    dataset['Title'] = dataset['Title'].map(title_mapping)\n",
    "    dataset['Title'] = dataset['Title'].fillna(0)\n",
    "    \n",
    "    # Mapping Embarked\n",
    "    dataset['Embarked'] = dataset['Embarked'].map( {'S': 0, 'C': 1, 'Q': 2} ).astype(int)\n",
    "    \n",
    "    # Mapping Fare\n",
    "    dataset.loc[ dataset['Fare'] <= 7.91, 'Fare'] \t\t\t\t\t\t        = 0\n",
    "    dataset.loc[(dataset['Fare'] > 7.91) & (dataset['Fare'] <= 14.454), 'Fare'] = 1\n",
    "    dataset.loc[(dataset['Fare'] > 14.454) & (dataset['Fare'] <= 31), 'Fare']   = 2\n",
    "    dataset.loc[ dataset['Fare'] > 31, 'Fare'] \t\t\t\t\t\t\t        = 3\n",
    "    dataset['Fare'] = dataset['Fare'].astype(int)\n",
    "    \n",
    "    # Mapping Age\n",
    "    dataset.loc[ dataset['Age'] <= 16, 'Age'] \t\t\t\t\t       = 0\n",
    "    dataset.loc[(dataset['Age'] > 16) & (dataset['Age'] <= 32), 'Age'] = 1\n",
    "    dataset.loc[(dataset['Age'] > 32) & (dataset['Age'] <= 48), 'Age'] = 2\n",
    "    dataset.loc[(dataset['Age'] > 48) & (dataset['Age'] <= 64), 'Age'] = 3\n",
    "    dataset.loc[ dataset['Age'] > 64, 'Age']                           = 4\n",
    "\n",
    "# Seleção de variáveis que não iremos utilizar\n",
    "drop_elements = ['PassengerId', 'Name', 'Ticket', 'Cabin', 'SibSp',\\\n",
    "                 'Parch', 'FamilySize']\n",
    "\n",
    "train = train.drop(drop_elements, axis = 1)\n",
    "train = train.drop(['CategoricalAge', 'CategoricalFare'], axis = 1)\n",
    "\n",
    "test  = test.drop(drop_elements, axis = 1)\n",
    "\n",
    "print (train.head(10))\n",
    "\n",
    "train = train.values\n",
    "test  = test.values"
   ]
  },
  {
   "cell_type": "markdown",
   "metadata": {},
   "source": [
    "Ótimo! Agora temos um dataset limpo e pronto para montarmos nosso modelo de predição."
   ]
  },
  {
   "cell_type": "markdown",
   "metadata": {},
   "source": [
    "## Predição\n",
    "Agora vamos usar o SVC como nosso classificador.\n",
    "\n",
    "Mais informações sobre o SVC. \n",
    "https://scikit-learn.org/stable/modules/svm.html"
   ]
  },
  {
   "cell_type": "markdown",
   "metadata": {},
   "source": [
    "<b>a) Importamos as bibliotecas necessárias</b>"
   ]
  },
  {
   "cell_type": "code",
   "execution_count": 43,
   "metadata": {},
   "outputs": [],
   "source": [
    "from sklearn.svm import SVC\n",
    "from sklearn import metrics\n",
    "from sklearn import model_selection\n",
    "from sklearn.model_selection import cross_val_score\n",
    "from sklearn.model_selection import cross_val_predict"
   ]
  },
  {
   "cell_type": "markdown",
   "metadata": {},
   "source": [
    "<b> b) Criamos o nosso classificador SVC do tipo SVM (Máquinas de Vetores de Suporte) </b>"
   ]
  },
  {
   "cell_type": "code",
   "execution_count": 44,
   "metadata": {},
   "outputs": [],
   "source": [
    "classifiers = [SVC(probability=True)]\n",
    "candidate_classifier = SVC()"
   ]
  },
  {
   "cell_type": "markdown",
   "metadata": {},
   "source": [
    "**c) Treinamos o nosso classificador com o conjunto de treinamento.**\n",
    "\n",
    "A função ```.fit(X, y) ``` recebe 2 arrays de entrada:\n",
    "* **X** em forma de matriz ```[elementos, variáveis]``` com todos os elementos do conjunto de treinamento\n",
    "* **y** em forma de array com o nome das variáveis\n",
    "\n",
    "Mais informações sobre SVM em python: https://scikit-learn.org/stable/modules/svm.html"
   ]
  },
  {
   "cell_type": "code",
   "execution_count": 45,
   "metadata": {},
   "outputs": [
    {
     "data": {
      "text/plain": [
       "SVC(C=1.0, cache_size=200, class_weight=None, coef0=0.0,\n",
       "  decision_function_shape='ovr', degree=3, gamma='auto', kernel='rbf',\n",
       "  max_iter=-1, probability=False, random_state=None, shrinking=True,\n",
       "  tol=0.001, verbose=False)"
      ]
     },
     "execution_count": 45,
     "metadata": {},
     "output_type": "execute_result"
    }
   ],
   "source": [
    "candidate_classifier.fit(train[0::, 1::], train[0::, 0])"
   ]
  },
  {
   "cell_type": "markdown",
   "metadata": {},
   "source": [
    "### Testando nosso classificador\n",
    "Uma forma de validar o classificador é usar a técnica chamada **Cross Validation/Validação Cruzada**.\n",
    "\n",
    "Abaixo, vamos criar uma função que faz o Cross Validation e nos retorna a acurácia média. A Acurácia, basicamente é o percentual de acertos que modelo teve."
   ]
  },
  {
   "cell_type": "code",
   "execution_count": 46,
   "metadata": {},
   "outputs": [],
   "source": [
    "def acuracia(clf,X,y):\n",
    "    scores = cross_val_score(clf, X, y, cv=5)\n",
    "    resultados = cross_val_predict(clf, X, y, cv=5)\n",
    "    print(\"Cross-validated Scores: \",scores)\n",
    "    acuracia_media = metrics.accuracy_score(y,resultados)\n",
    "    print(\"Acurácia média: \", acuracia_media)\n",
    "    return None"
   ]
  },
  {
   "cell_type": "markdown",
   "metadata": {},
   "source": [
    "Como estamos testando nosso classificador usando os dados de treinamento, podemos:\n",
    "1. executar nosso classificador sobre os **dados de teste**\n",
    "2. comparar os resultados do classificador com os resultados esperados (armazenados na coluna survived)"
   ]
  },
  {
   "cell_type": "code",
   "execution_count": 47,
   "metadata": {},
   "outputs": [],
   "source": [
    "# armazenamos os resutados esperados\n",
    "classes = candidate_classifier.predict(train[0::,1::])"
   ]
  },
  {
   "cell_type": "code",
   "execution_count": 48,
   "metadata": {},
   "outputs": [
    {
     "name": "stdout",
     "output_type": "stream",
     "text": [
      "Cross-validated Scores:  [0.97765363 0.97765363 0.98876404 0.99438202 0.96045198]\n",
      "Acurácia média:  0.9797979797979798\n"
     ]
    }
   ],
   "source": [
    "# executamos a função acuracia\n",
    "acuracia(candidate_classifier,train,classes)"
   ]
  },
  {
   "cell_type": "markdown",
   "metadata": {},
   "source": [
    "Como podemos ver a acurácia ficou na faixa de 97%! O SVM está funcionando muito bem para esses dados.\n",
    "\n",
    "Mas precisamos ter em mente que a base de dados do Titanic é uma base pequena e simples, por isso, conseguimos facilmente um bom trabalho do SVM. O objetivo foi apenas mostrar como podemos testar nosso algoritmo de forma prática.\n",
    "\n",
    "Agora, vamos seguir com a predição dos nossos dados de teste, que, afinal, é o nosso objetivo!"
   ]
  },
  {
   "cell_type": "markdown",
   "metadata": {},
   "source": [
    "<b>d) Após o treinamento, realizamos a predição com os dados de teste</b>"
   ]
  },
  {
   "cell_type": "code",
   "execution_count": 49,
   "metadata": {},
   "outputs": [],
   "source": [
    "result = candidate_classifier.predict(test)"
   ]
  },
  {
   "cell_type": "markdown",
   "metadata": {},
   "source": [
    "Abaixo o print do resultado, uma array de 0's e 1's. Cada valor representa um dos passageiros. "
   ]
  },
  {
   "cell_type": "code",
   "execution_count": 50,
   "metadata": {},
   "outputs": [
    {
     "name": "stdout",
     "output_type": "stream",
     "text": [
      "[0 1 0 0 1 0 1 0 1 0 0 0 1 0 1 1 0 0 0 1 0 1 1 0 1 0 1 0 0 0 0 0 0 0 0 0 1\n",
      " 1 0 0 0 0 0 1 1 0 0 0 1 0 0 0 1 1 0 0 0 0 0 1 0 0 0 1 1 1 1 0 0 1 1 0 1 0\n",
      " 1 0 0 1 0 1 0 0 0 0 0 0 1 1 1 1 1 0 1 0 0 0 1 0 1 0 1 0 0 0 1 0 0 0 0 0 0\n",
      " 1 1 1 1 0 0 0 0 1 1 0 1 0 0 0 0 1 0 0 0 0 0 0 0 0 0 0 1 0 0 1 0 0 0 0 0 0\n",
      " 0 0 1 0 0 1 0 0 1 1 0 1 1 0 1 0 0 0 0 0 1 1 0 0 0 0 0 1 1 0 1 1 0 0 1 0 1\n",
      " 0 1 0 0 0 0 0 0 0 1 0 1 1 0 1 1 1 1 1 0 0 1 0 1 0 0 0 0 1 1 0 1 0 1 0 1 0\n",
      " 1 0 1 1 0 1 0 0 0 1 0 0 0 0 0 0 1 1 1 1 0 0 0 0 1 0 1 1 1 0 0 0 0 0 0 0 1\n",
      " 0 0 0 1 1 0 0 0 0 1 0 0 0 1 1 0 1 0 0 0 0 1 1 1 1 0 0 0 0 0 0 0 1 0 1 0 0\n",
      " 1 0 0 0 0 0 0 0 1 1 0 1 0 1 0 0 0 1 1 1 0 0 0 0 0 0 0 0 1 0 1 0 0 0 1 0 0\n",
      " 1 0 0 0 0 0 1 0 0 0 1 0 1 0 1 0 1 1 0 0 0 0 0 1 0 0 0 0 1 1 0 1 0 0 0 1 0\n",
      " 0 1 0 0 1 1 0 0 0 0 0 0 0 0 0 1 0 0 0 0 0 1 0 0 0 1 0 1 0 0 1 0 1 0 0 0 0\n",
      " 0 1 1 1 1 1 0 1 0 0 0]\n"
     ]
    }
   ],
   "source": [
    "print (result)"
   ]
  },
  {
   "cell_type": "markdown",
   "metadata": {},
   "source": [
    "Lembra-se da nossa variável **submission** que guardou os dados de teste? Agora iremos utilizá-la para saber quem são os passageiros que sobreviveram ou não."
   ]
  },
  {
   "cell_type": "code",
   "execution_count": 51,
   "metadata": {},
   "outputs": [
    {
     "data": {
      "text/html": [
       "<div>\n",
       "<style scoped>\n",
       "    .dataframe tbody tr th:only-of-type {\n",
       "        vertical-align: middle;\n",
       "    }\n",
       "\n",
       "    .dataframe tbody tr th {\n",
       "        vertical-align: top;\n",
       "    }\n",
       "\n",
       "    .dataframe thead th {\n",
       "        text-align: right;\n",
       "    }\n",
       "</style>\n",
       "<table border=\"1\" class=\"dataframe\">\n",
       "  <thead>\n",
       "    <tr style=\"text-align: right;\">\n",
       "      <th></th>\n",
       "      <th>PassengerId</th>\n",
       "      <th>Pclass</th>\n",
       "      <th>Name</th>\n",
       "      <th>Sex</th>\n",
       "      <th>Age</th>\n",
       "      <th>SibSp</th>\n",
       "      <th>Parch</th>\n",
       "      <th>Ticket</th>\n",
       "      <th>Fare</th>\n",
       "      <th>Cabin</th>\n",
       "      <th>Embarked</th>\n",
       "    </tr>\n",
       "  </thead>\n",
       "  <tbody>\n",
       "    <tr>\n",
       "      <th>0</th>\n",
       "      <td>892</td>\n",
       "      <td>3</td>\n",
       "      <td>Kelly, Mr. James</td>\n",
       "      <td>male</td>\n",
       "      <td>34.5</td>\n",
       "      <td>0</td>\n",
       "      <td>0</td>\n",
       "      <td>330911</td>\n",
       "      <td>7.8292</td>\n",
       "      <td>NaN</td>\n",
       "      <td>Q</td>\n",
       "    </tr>\n",
       "    <tr>\n",
       "      <th>1</th>\n",
       "      <td>893</td>\n",
       "      <td>3</td>\n",
       "      <td>Wilkes, Mrs. James (Ellen Needs)</td>\n",
       "      <td>female</td>\n",
       "      <td>47.0</td>\n",
       "      <td>1</td>\n",
       "      <td>0</td>\n",
       "      <td>363272</td>\n",
       "      <td>7.0000</td>\n",
       "      <td>NaN</td>\n",